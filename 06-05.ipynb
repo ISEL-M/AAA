{
 "cells": [
  {
   "cell_type": "code",
   "execution_count": 2,
   "metadata": {},
   "outputs": [],
   "source": [
    "import numpy as np\n",
    "import itertools\n",
    "import matplotlib.pyplot as plt\n",
    "import tensorflow.keras as keras\n",
    "import tensorflow.keras.datasets as DT\n",
    "import tensorflow as tf\n",
    "from sklearn.linear_model import SGDClassifier\n",
    "from sklearn.metrics import confusion_matrix, roc_curve\n",
    "from sklearn.preprocessing import StandardScaler\n",
    "from sklearn.decomposition import PCA\n",
    "from sklearn.metrics import classification_report\n",
    "import sklearn.metrics as skm\n",
    "from sklearn.svm import SVC\n",
    "from sklearn.model_selection import train_test_split\n",
    "from time import time\n",
    "from sklearn.linear_model import LogisticRegression\n",
    "import numpy.random as rd\n",
    "from sklearn.model_selection import GridSearchCV\n",
    "from keras.datasets import fashion_mnist\n",
    "from sklearn.svm import LinearSVC"
   ]
  },
  {
   "cell_type": "code",
   "execution_count": 3,
   "metadata": {},
   "outputs": [],
   "source": [
    "#Função para mostrar as matrizes de confusão\n",
    "def plot_confusion_matrix(cm, classes,\n",
    "                          normalize=False,\n",
    "                          title='Confusion matrix',\n",
    "                          cmap=plt.cm.Blues):\n",
    "    \"\"\"\n",
    "    This function prints and plots the confusion matrix.\n",
    "    Normalization can be applied by setting `normalize=True`.\n",
    "    \"\"\"\n",
    "    if normalize:\n",
    "        cm = cm.astype('float') / cm.sum(axis=1)[:, np.newaxis]\n",
    "        print(\"Normalized confusion matrix\")\n",
    "    else:\n",
    "        print('Confusion matrix, without normalization')\n",
    "\n",
    "    fig=plt.figure(figsize=(6.5,6.5))\n",
    "    plt.imshow(cm, interpolation='none', cmap=cmap)\n",
    "    plt.title(title)\n",
    "    plt.colorbar(fraction=0.046, pad=0.04)\n",
    "    tick_marks = np.arange(len(classes))\n",
    "    plt.xticks(tick_marks, classes, rotation=45,ha='right')\n",
    "    plt.yticks(tick_marks, classes)\n",
    "\n",
    "    fmt = '.2f' if normalize else 'd'\n",
    "    thresh = cm.max() / 2.\n",
    "    for i, j in itertools.product(range(cm.shape[0]), range(cm.shape[1])):\n",
    "        plt.text(j, i, format(cm[i, j], fmt),\n",
    "                 horizontalalignment=\"center\",\n",
    "                 color=\"white\" if cm[i, j] > thresh else \"black\")\n",
    "\n",
    "    plt.tight_layout()\n",
    "    plt.ylabel('True label')\n",
    "    plt.xlabel('Predicted label')\n",
    "    #return fig"
   ]
  },
  {
   "cell_type": "code",
   "execution_count": 4,
   "metadata": {},
   "outputs": [],
   "source": [
    "fashion_minist=keras.datasets.fashion_mnist\n",
    "(X1,y1),(X2,y2)=fashion_mnist.load_data()\n",
    "idx=rd.permutation(X1.shape[0])\n",
    "X1=X1[idx]*1.#/255-.5#Normalization\n",
    "y1=y1[idx]\n",
    "\n",
    "\n",
    "idx=np.argsort(y2)\n",
    "y2=y2[idx]\n",
    "X2=X2[idx,:]*1.#/255-.5#Normalization\n",
    "\n",
    "Y1=keras.utils.to_categorical(y1)\n",
    "Y2=keras.utils.to_categorical(y2)"
   ]
  },
  {
   "cell_type": "code",
   "execution_count": 41,
   "metadata": {},
   "outputs": [],
   "source": [
    "mlp=keras.Sequential()\n",
    "mlp.add(keras.layers.Flatten(input_shape=[28,28]))\n",
    "mlp.add(keras.layers.Normalization(mean=128,variance=128))\n",
    "mlp.add(keras.layers.Dense(100, activation=\"relu\"))\n",
    "mlp.add(keras.layers.Dropout(.4))\n",
    "mlp.add(keras.layers.Dense(100, activation=\"relu\"))\n",
    "mlp.add(keras.layers.Dropout(.4))\n",
    "mlp.add(keras.layers.Dense(100, activation=\"relu\"))\n",
    "mlp.add(keras.layers.Dropout(.4))\n",
    "mlp.add(keras.layers.Dense(100, activation=\"relu\"))\n",
    "mlp.add(keras.layers.Dense(10, activation=\"softmax\"))"
   ]
  },
  {
   "cell_type": "code",
   "execution_count": 36,
   "metadata": {},
   "outputs": [
    {
     "name": "stdout",
     "output_type": "stream",
     "text": [
      "Model: \"sequential_5\"\n",
      "_________________________________________________________________\n",
      " Layer (type)                Output Shape              Param #   \n",
      "=================================================================\n",
      " flatten_5 (Flatten)         (None, 784)               0         \n",
      "                                                                 \n",
      " normalization (Normalizatio  (None, 784)              1569      \n",
      " n)                                                              \n",
      "                                                                 \n",
      " dense_27 (Dense)            (None, 100)               78500     \n",
      "                                                                 \n",
      " dropout_17 (Dropout)        (None, 100)               0         \n",
      "                                                                 \n",
      " dense_28 (Dense)            (None, 100)               10100     \n",
      "                                                                 \n",
      " dropout_18 (Dropout)        (None, 100)               0         \n",
      "                                                                 \n",
      " dense_29 (Dense)            (None, 100)               10100     \n",
      "                                                                 \n",
      " dropout_19 (Dropout)        (None, 100)               0         \n",
      "                                                                 \n",
      " dense_30 (Dense)            (None, 100)               10100     \n",
      "                                                                 \n",
      " dense_31 (Dense)            (None, 10)                1010      \n",
      "                                                                 \n",
      "=================================================================\n",
      "Total params: 111,379\n",
      "Trainable params: 109,810\n",
      "Non-trainable params: 1,569\n",
      "_________________________________________________________________\n"
     ]
    }
   ],
   "source": [
    "mlp.summary()"
   ]
  },
  {
   "cell_type": "code",
   "execution_count": 42,
   "metadata": {},
   "outputs": [],
   "source": [
    "mlp.compile(optimizer=\"nadam\", loss='categorical_crossentropy', metrics=['accuracy'])"
   ]
  },
  {
   "cell_type": "code",
   "execution_count": 14,
   "metadata": {},
   "outputs": [
    {
     "data": {
      "text/plain": [
       "(10000, 10)"
      ]
     },
     "execution_count": 14,
     "metadata": {},
     "output_type": "execute_result"
    }
   ],
   "source": [
    "Y2.shape"
   ]
  },
  {
   "cell_type": "code",
   "execution_count": 15,
   "metadata": {},
   "outputs": [
    {
     "data": {
      "text/plain": [
       "array([[0., 0., 0., 0., 0., 0., 0., 1., 0., 0.],\n",
       "       [0., 0., 0., 0., 1., 0., 0., 0., 0., 0.],\n",
       "       [0., 0., 1., 0., 0., 0., 0., 0., 0., 0.],\n",
       "       [0., 0., 1., 0., 0., 0., 0., 0., 0., 0.],\n",
       "       [0., 0., 0., 0., 1., 0., 0., 0., 0., 0.]], dtype=float32)"
      ]
     },
     "execution_count": 15,
     "metadata": {},
     "output_type": "execute_result"
    }
   ],
   "source": [
    "Y1[:5,:]"
   ]
  },
  {
   "cell_type": "code",
   "execution_count": 43,
   "metadata": {},
   "outputs": [
    {
     "name": "stdout",
     "output_type": "stream",
     "text": [
      "Epoch 1/20\n",
      "59/59 [==============================] - 7s 53ms/step - loss: 2.3011 - accuracy: 0.3323 - val_loss: 0.9896 - val_accuracy: 0.6872\n",
      "Epoch 2/20\n",
      "59/59 [==============================] - 3s 44ms/step - loss: 1.1746 - accuracy: 0.5902 - val_loss: 0.7172 - val_accuracy: 0.7674\n",
      "Epoch 3/20\n",
      "59/59 [==============================] - 3s 43ms/step - loss: 0.9191 - accuracy: 0.6736 - val_loss: 0.6035 - val_accuracy: 0.7924\n",
      "Epoch 4/20\n",
      "59/59 [==============================] - 3s 44ms/step - loss: 0.8045 - accuracy: 0.7197 - val_loss: 0.5810 - val_accuracy: 0.7988\n",
      "Epoch 5/20\n",
      "59/59 [==============================] - 3s 43ms/step - loss: 0.7428 - accuracy: 0.7400 - val_loss: 0.5438 - val_accuracy: 0.8166\n",
      "Epoch 6/20\n",
      "59/59 [==============================] - 3s 46ms/step - loss: 0.6995 - accuracy: 0.7576 - val_loss: 0.5356 - val_accuracy: 0.8061\n",
      "Epoch 7/20\n",
      "59/59 [==============================] - 3s 44ms/step - loss: 0.6728 - accuracy: 0.7666 - val_loss: 0.5136 - val_accuracy: 0.8223\n",
      "Epoch 8/20\n",
      "59/59 [==============================] - 3s 44ms/step - loss: 0.6483 - accuracy: 0.7749 - val_loss: 0.5093 - val_accuracy: 0.8298\n",
      "Epoch 9/20\n",
      "59/59 [==============================] - 3s 44ms/step - loss: 0.6253 - accuracy: 0.7820 - val_loss: 0.4945 - val_accuracy: 0.8326\n",
      "Epoch 10/20\n",
      "59/59 [==============================] - 3s 45ms/step - loss: 0.6093 - accuracy: 0.7879 - val_loss: 0.4920 - val_accuracy: 0.8337\n",
      "Epoch 11/20\n",
      "59/59 [==============================] - 3s 44ms/step - loss: 0.5903 - accuracy: 0.7930 - val_loss: 0.4940 - val_accuracy: 0.8379\n",
      "Epoch 12/20\n",
      "59/59 [==============================] - 3s 44ms/step - loss: 0.5751 - accuracy: 0.8000 - val_loss: 0.4765 - val_accuracy: 0.8406\n",
      "Epoch 13/20\n",
      "59/59 [==============================] - 3s 44ms/step - loss: 0.5666 - accuracy: 0.8026 - val_loss: 0.4916 - val_accuracy: 0.8272\n",
      "Epoch 14/20\n",
      "59/59 [==============================] - 3s 45ms/step - loss: 0.5608 - accuracy: 0.8037 - val_loss: 0.4795 - val_accuracy: 0.8430\n",
      "Epoch 15/20\n",
      "59/59 [==============================] - 3s 44ms/step - loss: 0.5430 - accuracy: 0.8085 - val_loss: 0.4738 - val_accuracy: 0.8349\n",
      "Epoch 16/20\n",
      "59/59 [==============================] - 3s 44ms/step - loss: 0.5394 - accuracy: 0.8104 - val_loss: 0.4625 - val_accuracy: 0.8425\n",
      "Epoch 17/20\n",
      "59/59 [==============================] - 3s 45ms/step - loss: 0.5261 - accuracy: 0.8157 - val_loss: 0.4719 - val_accuracy: 0.8436\n",
      "Epoch 18/20\n",
      "59/59 [==============================] - 3s 47ms/step - loss: 0.5202 - accuracy: 0.8181 - val_loss: 0.4754 - val_accuracy: 0.8368\n",
      "Epoch 19/20\n",
      "59/59 [==============================] - 3s 46ms/step - loss: 0.5124 - accuracy: 0.8205 - val_loss: 0.4597 - val_accuracy: 0.8460\n",
      "Epoch 20/20\n",
      "59/59 [==============================] - 2s 41ms/step - loss: 0.5049 - accuracy: 0.8200 - val_loss: 0.4532 - val_accuracy: 0.8517\n"
     ]
    }
   ],
   "source": [
    "train = mlp.fit(X1, Y1, epochs=20, batch_size=1024, validation_data=(X2, Y2))"
   ]
  },
  {
   "cell_type": "code",
   "execution_count": 44,
   "metadata": {},
   "outputs": [
    {
     "data": {
      "text/plain": [
       "dict_keys(['loss', 'accuracy', 'val_loss', 'val_accuracy'])"
      ]
     },
     "execution_count": 44,
     "metadata": {},
     "output_type": "execute_result"
    }
   ],
   "source": [
    "h=train.history\n",
    "h.keys()"
   ]
  },
  {
   "cell_type": "code",
   "execution_count": 46,
   "metadata": {},
   "outputs": [
    {
     "data": {
      "text/plain": [
       "(0.0, 20.0, 0.0, 1.0)"
      ]
     },
     "execution_count": 46,
     "metadata": {},
     "output_type": "execute_result"
    },
    {
     "data": {
      "image/png": "[encoded data removed]",
      "text/plain": [
       "<Figure size 720x360 with 1 Axes>"
      ]
     },
     "metadata": {
      "needs_background": "light"
     },
     "output_type": "display_data"
    }
   ],
   "source": [
    "plt.figure(figsize=(10,5))\n",
    "plt.plot(h['loss'])\n",
    "plt.plot(h['val_loss'])\n",
    "plt.plot(h['accuracy'])\n",
    "plt.plot(h['val_accuracy'])\n",
    "plt.grid()\n",
    "plt.axis([0,20,0,1])"
   ]
  },
  {
   "cell_type": "code",
   "execution_count": 48,
   "metadata": {},
   "outputs": [
    {
     "name": "stdout",
     "output_type": "stream",
     "text": [
      "[[790   0   9  42   3   0 145   2   9   0]\n",
      " [  1 956   1  31   2   0   7   0   2   0]\n",
      " [  6   1 777  17 112   0  84   0   3   0]\n",
      " [ 28   7   9 868  39   0  47   0   2   0]\n",
      " [  0   2 125  35 747   0  85   0   6   0]\n",
      " [  0   0   1   2   0 886   0  82   3  26]\n",
      " [133   1 115  34  73   0 632   0  12   0]\n",
      " [  0   0   0   0   0  12   0 964   0  24]\n",
      " [  2   0   0   6   3   2  18   5 964   0]\n",
      " [  0   0   0   0   0   4   0  62   1 933]]\n",
      "Score: 85.17\n"
     ]
    }
   ],
   "source": [
    "y2e=mlp.predict(X2)\n",
    "y2e=np.argmax(y2e,axis=1)\n",
    "print(confusion_matrix(y2,y2e))\n",
    "print('Score:', np.sum(y2==y2e)/y2.shape[0]*100)"
   ]
  },
  {
   "cell_type": "code",
   "execution_count": 50,
   "metadata": {},
   "outputs": [],
   "source": [
    "mlp.save('xto.h5')"
   ]
  },
  {
   "cell_type": "code",
   "execution_count": 5,
   "metadata": {},
   "outputs": [],
   "source": [
    "cnn=keras.Sequential()\n",
    "cnn.add(keras.layers.Conv2D(16, (3, 3), activation='relu',input_shape=[28,28,1]))\n",
    "cnn.add(keras.layers.Conv2D(16, (3, 3), activation='relu'))\n",
    "cnn.add(keras.layers.Conv2D(16, (3, 3), activation='relu'))\n",
    "cnn.add(keras.layers.AveragePooling2D((2, 2)))\n",
    "cnn.add(keras.layers.Conv2D(32, (3, 3), activation='relu'))\n",
    "cnn.add(keras.layers.Conv2D(64, (3, 3), activation='relu'))\n",
    "cnn.add(keras.layers.Flatten())\n",
    "cnn.add(keras.layers.Dense(132, activation='relu'))\n",
    "cnn.add(keras.layers.Dense(10, activation='softmax'))\n",
    "\n"
   ]
  },
  {
   "cell_type": "code",
   "execution_count": 6,
   "metadata": {},
   "outputs": [],
   "source": [
    "X1=X1[:,:,:,np.newaxis]\n",
    "X2=X2[:,:,:,np.newaxis]"
   ]
  },
  {
   "cell_type": "code",
   "execution_count": 7,
   "metadata": {},
   "outputs": [],
   "source": [
    "cnn.compile(optimizer=\"nadam\", loss='categorical_crossentropy', metrics=['accuracy'])"
   ]
  },
  {
   "cell_type": "code",
   "execution_count": 12,
   "metadata": {},
   "outputs": [
    {
     "name": "stdout",
     "output_type": "stream",
     "text": [
      "Epoch 1/12\n",
      "59/59 [==============================] - 15s 247ms/step - loss: 0.2545 - accuracy: 0.9049 - val_loss: 0.3243 - val_accuracy: 0.8852\n",
      "Epoch 2/12\n",
      "59/59 [==============================] - 15s 251ms/step - loss: 0.2399 - accuracy: 0.9110 - val_loss: 0.3241 - val_accuracy: 0.8833\n",
      "Epoch 3/12\n",
      "59/59 [==============================] - 15s 263ms/step - loss: 0.2201 - accuracy: 0.9182 - val_loss: 0.3482 - val_accuracy: 0.8757\n",
      "Epoch 4/12\n",
      "59/59 [==============================] - 15s 255ms/step - loss: 0.2076 - accuracy: 0.9229 - val_loss: 0.3001 - val_accuracy: 0.8967\n",
      "Epoch 5/12\n",
      "59/59 [==============================] - 15s 252ms/step - loss: 0.1941 - accuracy: 0.9277 - val_loss: 0.3226 - val_accuracy: 0.8849\n",
      "Epoch 6/12\n",
      "59/59 [==============================] - 15s 250ms/step - loss: 0.1846 - accuracy: 0.9314 - val_loss: 0.3032 - val_accuracy: 0.8991\n",
      "Epoch 7/12\n",
      "59/59 [==============================] - 14s 244ms/step - loss: 0.1691 - accuracy: 0.9374 - val_loss: 0.3049 - val_accuracy: 0.8979\n",
      "Epoch 8/12\n",
      "59/59 [==============================] - 14s 244ms/step - loss: 0.1595 - accuracy: 0.9410 - val_loss: 0.3232 - val_accuracy: 0.8936\n",
      "Epoch 9/12\n",
      "59/59 [==============================] - 15s 246ms/step - loss: 0.1504 - accuracy: 0.9446 - val_loss: 0.3416 - val_accuracy: 0.8926\n",
      "Epoch 10/12\n",
      "59/59 [==============================] - 14s 243ms/step - loss: 0.1398 - accuracy: 0.9477 - val_loss: 0.3069 - val_accuracy: 0.8979\n",
      "Epoch 11/12\n",
      "59/59 [==============================] - 14s 244ms/step - loss: 0.1299 - accuracy: 0.9515 - val_loss: 0.3194 - val_accuracy: 0.9032\n",
      "Epoch 12/12\n",
      "59/59 [==============================] - 14s 243ms/step - loss: 0.1244 - accuracy: 0.9549 - val_loss: 0.3544 - val_accuracy: 0.8982\n"
     ]
    }
   ],
   "source": [
    "train = cnn.fit(X1, Y1, epochs=12, batch_size=1024, validation_data=(X2, Y2))"
   ]
  },
  {
   "cell_type": "code",
   "execution_count": 13,
   "metadata": {},
   "outputs": [
    {
     "name": "stdout",
     "output_type": "stream",
     "text": [
      "Model: \"sequential\"\n",
      "_________________________________________________________________\n",
      " Layer (type)                Output Shape              Param #   \n",
      "=================================================================\n",
      " conv2d (Conv2D)             (None, 26, 26, 16)        160       \n",
      "                                                                 \n",
      " conv2d_1 (Conv2D)           (None, 24, 24, 16)        2320      \n",
      "                                                                 \n",
      " conv2d_2 (Conv2D)           (None, 22, 22, 16)        2320      \n",
      "                                                                 \n",
      " average_pooling2d (AverageP  (None, 11, 11, 16)       0         \n",
      " ooling2D)                                                       \n",
      "                                                                 \n",
      " conv2d_3 (Conv2D)           (None, 9, 9, 32)          4640      \n",
      "                                                                 \n",
      " conv2d_4 (Conv2D)           (None, 7, 7, 64)          18496     \n",
      "                                                                 \n",
      " flatten (Flatten)           (None, 3136)              0         \n",
      "                                                                 \n",
      " dense (Dense)               (None, 132)               414084    \n",
      "                                                                 \n",
      " dense_1 (Dense)             (None, 10)                1330      \n",
      "                                                                 \n",
      "=================================================================\n",
      "Total params: 443,350\n",
      "Trainable params: 443,350\n",
      "Non-trainable params: 0\n",
      "_________________________________________________________________\n"
     ]
    }
   ],
   "source": [
    "cnn.summary()"
   ]
  },
  {
   "cell_type": "code",
   "execution_count": 14,
   "metadata": {},
   "outputs": [
    {
     "data": {
      "text/plain": [
       "dict_keys(['loss', 'accuracy', 'val_loss', 'val_accuracy'])"
      ]
     },
     "execution_count": 14,
     "metadata": {},
     "output_type": "execute_result"
    }
   ],
   "source": [
    "h=train.history\n",
    "h.keys()"
   ]
  },
  {
   "cell_type": "code",
   "execution_count": 16,
   "metadata": {},
   "outputs": [
    {
     "data": {
      "text/plain": [
       "(0.0, 12.0, 0.0, 1.0)"
      ]
     },
     "execution_count": 16,
     "metadata": {},
     "output_type": "execute_result"
    },
    {
     "data": {
      "image/png": "[encoded data removed]",
      "text/plain": [
       "<Figure size 720x360 with 1 Axes>"
      ]
     },
     "metadata": {
      "needs_background": "light"
     },
     "output_type": "display_data"
    }
   ],
   "source": [
    "plt.figure(figsize=(10,5))\n",
    "plt.plot(h['loss'])\n",
    "plt.plot(h['val_loss'])\n",
    "plt.plot(h['accuracy'])\n",
    "plt.plot(h['val_accuracy'])\n",
    "plt.grid()\n",
    "plt.axis([0,12,0,1])"
   ]
  },
  {
   "cell_type": "code",
   "execution_count": null,
   "metadata": {},
   "outputs": [],
   "source": []
  }
 ],
 "metadata": {
  "interpreter": {
   "hash": "528ce90f02aa3b1cf6611710e2e90572b0fb5e8feb96e0c59190fd59dc0043e1"
  },
  "kernelspec": {
   "display_name": "Python 3 (ipykernel)",
   "language": "python",
   "name": "python3"
  },
  "language_info": {
   "codemirror_mode": {
    "name": "ipython",
    "version": 3
   },
   "file_extension": ".py",
   "mimetype": "text/x-python",
   "name": "python",
   "nbconvert_exporter": "python",
   "pygments_lexer": "ipython3",
   "version": "3.9.6"
  }
 },
 "nbformat": 4,
 "nbformat_minor": 2
}
