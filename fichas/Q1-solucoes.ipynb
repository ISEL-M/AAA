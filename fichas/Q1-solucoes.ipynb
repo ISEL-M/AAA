{
 "cells": [
  {
   "cell_type": "markdown",
   "metadata": {},
   "source": [
    "# In-Class Quiz Nº 1"
   ]
  },
  {
   "cell_type": "markdown",
   "metadata": {},
   "source": [
    "<hr style=\"border:1px  solid black\"> </hr>"
   ]
  },
  {
   "cell_type": "markdown",
   "metadata": {},
   "source": [
    "### (Fill in)\n",
    "## Name: \n",
    "## Number: "
   ]
  },
  {
   "cell_type": "markdown",
   "metadata": {},
   "source": [
    "<hr style=\"border:1px  solid black\"> </hr>"
   ]
  },
  {
   "cell_type": "markdown",
   "metadata": {},
   "source": [
    "## Develop and run the requested code in the cells immediately below the questions."
   ]
  },
  {
   "cell_type": "markdown",
   "metadata": {},
   "source": [
    "# IMPORTANTE:\n",
    "## Once completed, save this Jupyter notebook with the following name:\n",
    "## Axxxxx-Q1.ipynb (Axxxxx: student number)\n",
    "##  and then upload the file to the Moodle link provided for that purpose."
   ]
  },
  {
   "cell_type": "markdown",
   "metadata": {},
   "source": [
    "<hr style=\"border:2px solid black\"> </hr>"
   ]
  },
  {
   "cell_type": "markdown",
   "metadata": {},
   "source": [
    "# Data: $\\texttt{breast_cancer}$ dataset of $\\texttt{sklearn}$\n",
    "### Consider the $\\texttt{breast_cancer}$ dataset of $\\texttt{sklearn}$, divided into two sub-sets, training/testing, according to the commands in the next cell.\n",
    "* ### X1: training data ($400\\times30$ array)\n",
    "* ### y1: classes of the training data\n",
    "* ### X2: test data (array de $169\\times30$)\n",
    "* ### y2: classes of the test data"
   ]
  },
  {
   "cell_type": "code",
   "execution_count": 29,
   "metadata": {},
   "outputs": [],
   "source": [
    "import numpy as np\n",
    "import matplotlib.pyplot as plt\n",
    "from sklearn.metrics import confusion_matrix, roc_curve\n",
    "from sklearn.model_selection import  train_test_split\n",
    "import sklearn.datasets as DT\n",
    "from sklearn.svm import SVC\n",
    "from sklearn.linear_model import LogisticRegression\n",
    "\n",
    "D=DT.load_breast_cancer()\n",
    "X=D.data\n",
    "y=D.target\n",
    "\n",
    "################################################################\n",
    "#Consider malignant cases as positive (class 1)\n",
    "# Need to invert classes\n",
    "y=np.abs(y-1)\n",
    "################################################################\n",
    "\n",
    "#division int training and test sub-sets\n",
    "X1,X2,y1,y2=train_test_split(X,y,test_size=169,stratify=y,random_state=42)"
   ]
  },
  {
   "cell_type": "markdown",
   "metadata": {},
   "source": [
    "# Question 1: Logistic Discriminants\n",
    "##  Consider a logistic discriminant with the following parameters $\\texttt{C=2}$, $\\texttt{solver='saga'}$, $\\texttt{penalty='l1'}$ and $\\texttt{max_iter=5000}$. Train the classifier with the training set.\n",
    "### a) Print the total number of errors and the confusion matrix  (non-normalized) of this classifier for the test set.\n",
    "### b) Calibrate this classifier in order to have a maximum number of false negatives in the test less than or equal to 5, while keeping the total number of errors below 15.¶\n",
    "### c) Plot the ROC curve of this classifier with the test data. Include in this plot the operational point of the classifiers in items 1.a) and 1.b)."
   ]
  },
  {
   "cell_type": "markdown",
   "metadata": {},
   "source": [
    "## 1.a)"
   ]
  },
  {
   "cell_type": "code",
   "execution_count": 43,
   "metadata": {
    "scrolled": true
   },
   "outputs": [
    {
     "name": "stdout",
     "output_type": "stream",
     "text": [
      "Total number of errors 13\n",
      "Confusion Matrix:\n",
      "[[105   1]\n",
      " [ 12  51]]\n"
     ]
    }
   ],
   "source": [
    "logD=LogisticRegression(penalty='l1',solver='saga',C=2,max_iter=5000).fit(X1,y1)\n",
    "y2e=logD.predict(X2)\n",
    "print('Total number of errors',np.sum(y2!=y2e))\n",
    "print('Confusion Matrix:')\n",
    "print(confusion_matrix(y2,y2e))"
   ]
  },
  {
   "cell_type": "markdown",
   "metadata": {},
   "source": [
    "## 1.b)"
   ]
  },
  {
   "cell_type": "code",
   "execution_count": 45,
   "metadata": {},
   "outputs": [
    {
     "name": "stdout",
     "output_type": "stream",
     "text": [
      "Total number of errors 14\n",
      "Confusion Matrix:\n",
      "[[97  9]\n",
      " [ 5 58]]\n"
     ]
    }
   ],
   "source": [
    "y2c=logD.decision_function(X2)\n",
    "thresh=-1.5\n",
    "print('Total number of errors',np.sum(y2!=(y2c>thresh)))\n",
    "print('Confusion Matrix:')\n",
    "print(confusion_matrix(y2,y2c>thresh))"
   ]
  },
  {
   "cell_type": "markdown",
   "metadata": {},
   "source": [
    "## 1.c)"
   ]
  },
  {
   "cell_type": "code",
   "execution_count": 42,
   "metadata": {
    "scrolled": false
   },
   "outputs": [
    {
     "data": {
      "text/plain": [
       "Text(0, 0.5, 'TP-rate')"
      ]
     },
     "execution_count": 42,
     "metadata": {},
     "output_type": "execute_result"
    },
    {
     "data": {
      "image/png": "[encoded data removed]",
      "text/plain": [
       "<Figure size 432x432 with 1 Axes>"
      ]
     },
     "metadata": {
      "needs_background": "light"
     },
     "output_type": "display_data"
    }
   ],
   "source": [
    "fpr,tpr,t=roc_curve(y2,y2c)\n",
    "\n",
    "#Classificador 1\n",
    "#fp-rate=FP/(FP+TN)\n",
    "p11=1/(105+1)\n",
    "#tp-rate=TP/(TP+FN)\n",
    "p12=51/(51+12)\n",
    "\n",
    "#Classificador 2\n",
    "#fp-rate=FP/(FP+TN)\n",
    "p21=9/(97+9)\n",
    "#tp-rate=TP/(TP+FN)\n",
    "p22=58/(5+58)\n",
    "\n",
    "plt.figure(figsize=(6,6))\n",
    "plt.plot(p11,p12,'ok')\n",
    "plt.plot(p21,p22,'or')\n",
    "\n",
    "plt.plot(fpr,tpr)\n",
    "plt.axis('scaled')\n",
    "plt.grid(True)\n",
    "plt.title('ROC curve')\n",
    "plt.xlabel('FP-rate')\n",
    "plt.ylabel('TP-rate')"
   ]
  },
  {
   "cell_type": "markdown",
   "metadata": {},
   "source": [
    "<hr style=\"border:2px solid black\"> </hr>"
   ]
  },
  {
   "cell_type": "markdown",
   "metadata": {},
   "source": [
    "# Question 2 - SVMs:\n",
    "## Consider a $\\texttt{SVC}$ classifier with the following parameters: $\\texttt{kernel='rbf'}$ and $\\texttt{C=2}$.\n",
    "### a) Preprocess the data using the function  $\\texttt{StandardScaler}$. Train this function with the training data and apply the transformation to the training and test sets. Use the pre-processed data in the following items.\n",
    "### b) Train the $\\texttt{SVC}$ classifier with the training data and plot the ROC curve of this classifier with the test data. Include in this plot the operating point of the classifier.\n",
    "### c)  Calibrate the classifier from the previous section to obtain one (1) false negative in the test data. After calibration, what is the minimum number of false positives obtained in the test set?¶"
   ]
  },
  {
   "cell_type": "markdown",
   "metadata": {},
   "source": [
    "## 2.a)"
   ]
  },
  {
   "cell_type": "code",
   "execution_count": 62,
   "metadata": {},
   "outputs": [],
   "source": [
    "from sklearn.preprocessing import StandardScaler\n",
    "sc=StandardScaler().fit(X1)\n",
    "X1n=sc.transform(X1)\n",
    "X2n=sc.transform(X2)\n"
   ]
  },
  {
   "cell_type": "markdown",
   "metadata": {},
   "source": [
    "## 2.b)"
   ]
  },
  {
   "cell_type": "code",
   "execution_count": 64,
   "metadata": {},
   "outputs": [
    {
     "name": "stdout",
     "output_type": "stream",
     "text": [
      "[[106   0]\n",
      " [  3  60]]\n"
     ]
    },
    {
     "data": {
      "image/png": "[encoded data removed]",
      "text/plain": [
       "<Figure size 432x432 with 1 Axes>"
      ]
     },
     "metadata": {
      "needs_background": "light"
     },
     "output_type": "display_data"
    }
   ],
   "source": [
    "svm=SVC(kernel='rbf',C=2).fit(X1n,y1)\n",
    "y2c=svm.decision_function(X2n)\n",
    "fpr,tpr,t=roc_curve(y2,y2c)\n",
    "\n",
    "print(confusion_matrix(y2,svm.predict(X2n)))\n",
    "\n",
    "#fp-rate=FP/(FP+TN)\n",
    "p1=0\n",
    "#tp-rate=TP/(TP+FN)\n",
    "p2=60/(3+60)\n",
    "\n",
    "plt.figure(figsize=(6,6))\n",
    "plt.plot(p1,p2,'ok')\n",
    "plt.plot(fpr,tpr)\n",
    "plt.axis('scaled')\n",
    "plt.grid(True)\n",
    "\n"
   ]
  },
  {
   "cell_type": "markdown",
   "metadata": {},
   "source": [
    "## 2.c)"
   ]
  },
  {
   "cell_type": "code",
   "execution_count": 65,
   "metadata": {
    "scrolled": false
   },
   "outputs": [
    {
     "name": "stdout",
     "output_type": "stream",
     "text": [
      "[[104   2]\n",
      " [  1  62]]\n",
      "Number of false positives = 2\n"
     ]
    }
   ],
   "source": [
    "print(confusion_matrix(y2,y2c>=-.35))\n",
    "print('Number of false positives = 2')"
   ]
  }
 ],
 "metadata": {
  "kernelspec": {
   "display_name": "Python 3",
   "language": "python",
   "name": "python3"
  },
  "language_info": {
   "codemirror_mode": {
    "name": "ipython",
    "version": 3
   },
   "file_extension": ".py",
   "mimetype": "text/x-python",
   "name": "python",
   "nbconvert_exporter": "python",
   "pygments_lexer": "ipython3",
   "version": "3.6.9"
  }
 },
 "nbformat": 4,
 "nbformat_minor": 4
}
